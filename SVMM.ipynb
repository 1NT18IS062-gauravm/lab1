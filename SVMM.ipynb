{
 "cells": [
  {
   "cell_type": "code",
   "execution_count": null,
   "id": "9bdd2566",
   "metadata": {},
   "outputs": [],
   "source": [
    "from sklearn.svm import SVC\n",
    "from sklearn import svm\n",
    "import numpy as np\n",
    "X=np.array([[3,4],[1,4],[2,3],[6,-1],[7,-1],[5,-3]])\n",
    "y=np.array([-1,-1,-1,1,1,1])\n",
    "l=SVC(C=1e5,kernel='linear')\n",
    "l.fit(X,y)\n",
    "print('w= ',l.coef_)\n",
    "print('b= ',l.intercept_)\n",
    "print('Indices of support vectors= ',l.support_)\n",
    "print('Support vectors= ',l.support_vectors_)\n",
    "print('No. of support vectors from each class= ',l.n_support_)\n",
    "print('coefficient of support vectors in decision function= ',np.abs(l.dual_coef_))\n",
    "\n",
    "import pandas as pd\n",
    "data=pd.read_csv('glass.csv')\n",
    "data.head()\n",
    "\n",
    "x=data.drop('Type',axis=1)\n",
    "y=data.Type\n",
    "\n",
    "from sklearn.model_selection import train_test_split\n",
    "x_train,x_test,y_train,y_test=train_test_split(x,y,test_size=0.3)\n",
    "\n",
    "linear=svm.SVC(kernel='linear')\n",
    "linear.fit(x_train,y_train)\n",
    "\n",
    "print(linear.support_vectors_)\n",
    "\n",
    "print(linear.n_support_)\n",
    "y_pred=linear.predict(x_test)\n",
    "\n",
    "from sklearn.metrics import accuracy_score\n",
    "print(accuracy_score(y_test,y_pred))\n",
    "\n",
    "from sklearn.metrics import confusion_matrix\n",
    "print(confusion_matrix(y_test,y_pred))"
   ]
  }
 ],
 "metadata": {
  "kernelspec": {
   "display_name": "Python 3",
   "language": "python",
   "name": "python3"
  },
  "language_info": {
   "codemirror_mode": {
    "name": "ipython",
    "version": 3
   },
   "file_extension": ".py",
   "mimetype": "text/x-python",
   "name": "python",
   "nbconvert_exporter": "python",
   "pygments_lexer": "ipython3",
   "version": "3.8.8"
  }
 },
 "nbformat": 4,
 "nbformat_minor": 5
}
